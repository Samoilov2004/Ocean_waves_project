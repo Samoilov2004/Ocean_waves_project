{
 "cells": [
  {
   "cell_type": "code",
   "execution_count": 41,
   "id": "719df95d-fef6-46c3-825c-8680e1751b39",
   "metadata": {},
   "outputs": [],
   "source": [
    "import numpy as np\n",
    "import pandas as pd\n",
    "import matplotlib.pyplot as plt\n",
    "import os\n",
    "import module as m"
   ]
  },
  {
   "cell_type": "code",
   "execution_count": 56,
   "id": "c545fec5-775c-4bf7-b63b-270dfa9bcf0e",
   "metadata": {},
   "outputs": [],
   "source": [
    "current_dir = os.getcwd()\n",
    "dir = 'csv_filtrered'\n",
    "csv_dir = os.path.join(current_dir, dir)\n",
    "csv_files = [os.path.join(dir, f) for f in os.listdir(dir) if f.endswith('.csv')]\n",
    "\n",
    "current_dir = os.getcwd()\n",
    "dir = 'GRD'\n",
    "grd_dir = os.path.join(current_dir, dir)\n",
    "grd_files = [os.path.join(dir, f) for f in os.listdir(dir) if f.endswith('.grd')]"
   ]
  },
  {
   "cell_type": "code",
   "execution_count": 26,
   "id": "373cf940-33dc-414a-90b5-e28f7da05c88",
   "metadata": {},
   "outputs": [],
   "source": [
    "def paint(link):\n",
    "    df = pd.read_csv(link)\n",
    "    plt.figure(figsize=(15, 5))\n",
    "    x = df.iloc[:, 0]\n",
    "    y = df.iloc[:, 1]\n",
    "    plt.plot(x, y)"
   ]
  },
  {
   "cell_type": "markdown",
   "id": "dd657864-f85e-4e75-87f7-b74a28ab9491",
   "metadata": {},
   "source": [
    "# Предподготовка"
   ]
  },
  {
   "cell_type": "markdown",
   "id": "a3f5b21a-a8ad-47cc-b2d3-67d1eb677c2d",
   "metadata": {},
   "source": [
    "теперь на каждый график добавим время прихода атмосферной волны и атмосферной"
   ]
  },
  {
   "cell_type": "code",
   "execution_count": 27,
   "id": "a06d197d-a850-4cea-81f7-08180fb4bd74",
   "metadata": {},
   "outputs": [],
   "source": [
    "info = pd.read_csv('info_file.csv')"
   ]
  },
  {
   "cell_type": "code",
   "execution_count": 28,
   "id": "f8fa80b9-ff2f-4018-88ac-32dc6f069ada",
   "metadata": {},
   "outputs": [],
   "source": [
    "def beta(link):\n",
    "    print(link)"
   ]
  },
  {
   "cell_type": "code",
   "execution_count": 50,
   "id": "f4c8497b-cabd-4d33-9cf9-4eaf709e45d2",
   "metadata": {},
   "outputs": [],
   "source": [
    "find_code = lambda text: text.split('/')[1].split('_')[0]\n",
    "find_grd = lambda text: text.split('/')[1].split('.')[0]\n",
    "\n",
    "codes = [find_code(i) for i in csv_files]"
   ]
  },
  {
   "cell_type": "code",
   "execution_count": 58,
   "id": "640ba5a9-aa22-4748-a92d-45664ad6dd11",
   "metadata": {},
   "outputs": [],
   "source": [
    "df = pd.DataFrame({\n",
    "    'code' : codes,\n",
    "    'files' : csv_files,\n",
    "    'lat' : info['lat'],\n",
    "    'lon1' : info['lon'],\n",
    "    'lon2' : (info['lon'] + 360)%360 #перевод в 360-градусную систему, так как используется на карте такое\n",
    "})"
   ]
  },
  {
   "cell_type": "code",
   "execution_count": 79,
   "id": "8778303f-3502-4e2e-8119-eb7a8bdf80b9",
   "metadata": {},
   "outputs": [],
   "source": [
    "grd_links = []\n",
    "\n",
    "for index, row in df.iterrows():\n",
    "    for i in grd_files:\n",
    "        if row['code'] == find_grd(i):\n",
    "            grd_links.append(i)\n",
    "            break\n",
    "    if row['code'] != find_grd(grd_links[-1]):\n",
    "        grd_links.append(np.nan)\n",
    "\n",
    "df['grd_links'] = grd_links"
   ]
  },
  {
   "cell_type": "code",
   "execution_count": 80,
   "id": "bcefc0fb-a36e-4325-8664-bb17a86351ea",
   "metadata": {},
   "outputs": [
    {
     "data": {
      "text/html": [
       "<div>\n",
       "<style scoped>\n",
       "    .dataframe tbody tr th:only-of-type {\n",
       "        vertical-align: middle;\n",
       "    }\n",
       "\n",
       "    .dataframe tbody tr th {\n",
       "        vertical-align: top;\n",
       "    }\n",
       "\n",
       "    .dataframe thead th {\n",
       "        text-align: right;\n",
       "    }\n",
       "</style>\n",
       "<table border=\"1\" class=\"dataframe\">\n",
       "  <thead>\n",
       "    <tr style=\"text-align: right;\">\n",
       "      <th></th>\n",
       "      <th>code</th>\n",
       "      <th>files</th>\n",
       "      <th>lat</th>\n",
       "      <th>lon1</th>\n",
       "      <th>lon2</th>\n",
       "      <th>grd_links</th>\n",
       "    </tr>\n",
       "  </thead>\n",
       "  <tbody>\n",
       "    <tr>\n",
       "      <th>0</th>\n",
       "      <td>sdpt</td>\n",
       "      <td>csv_filtrered/sdpt_Sand Point.csv</td>\n",
       "      <td>31.58</td>\n",
       "      <td>131.41</td>\n",
       "      <td>131.41</td>\n",
       "      <td>GRD/sdpt.grd</td>\n",
       "    </tr>\n",
       "    <tr>\n",
       "      <th>1</th>\n",
       "      <td>yaku2</td>\n",
       "      <td>csv_filtrered/yaku2_Yakutat.csv</td>\n",
       "      <td>27.02</td>\n",
       "      <td>142.19</td>\n",
       "      <td>142.19</td>\n",
       "      <td>NaN</td>\n",
       "    </tr>\n",
       "    <tr>\n",
       "      <th>2</th>\n",
       "      <td>anch2</td>\n",
       "      <td>csv_filtrered/anch2_Anchorage.csv</td>\n",
       "      <td>24.33</td>\n",
       "      <td>124.16</td>\n",
       "      <td>124.16</td>\n",
       "      <td>GRD/anch2.grd</td>\n",
       "    </tr>\n",
       "    <tr>\n",
       "      <th>3</th>\n",
       "      <td>atka</td>\n",
       "      <td>csv_filtrered/atka_Atka. AK.csv</td>\n",
       "      <td>33.48</td>\n",
       "      <td>135.77</td>\n",
       "      <td>135.77</td>\n",
       "      <td>NaN</td>\n",
       "    </tr>\n",
       "    <tr>\n",
       "      <th>4</th>\n",
       "      <td>kush</td>\n",
       "      <td>csv_filtrered/kush_Kushiro.csv</td>\n",
       "      <td>42.98</td>\n",
       "      <td>144.37</td>\n",
       "      <td>144.37</td>\n",
       "      <td>GRD/kush.grd</td>\n",
       "    </tr>\n",
       "  </tbody>\n",
       "</table>\n",
       "</div>"
      ],
      "text/plain": [
       "    code                              files    lat    lon1    lon2  \\\n",
       "0   sdpt  csv_filtrered/sdpt_Sand Point.csv  31.58  131.41  131.41   \n",
       "1  yaku2    csv_filtrered/yaku2_Yakutat.csv  27.02  142.19  142.19   \n",
       "2  anch2  csv_filtrered/anch2_Anchorage.csv  24.33  124.16  124.16   \n",
       "3   atka    csv_filtrered/atka_Atka. AK.csv  33.48  135.77  135.77   \n",
       "4   kush     csv_filtrered/kush_Kushiro.csv  42.98  144.37  144.37   \n",
       "\n",
       "       grd_links  \n",
       "0   GRD/sdpt.grd  \n",
       "1            NaN  \n",
       "2  GRD/anch2.grd  \n",
       "3            NaN  \n",
       "4   GRD/kush.grd  "
      ]
     },
     "execution_count": 80,
     "metadata": {},
     "output_type": "execute_result"
    }
   ],
   "source": [
    "df.head()"
   ]
  },
  {
   "cell_type": "markdown",
   "id": "dba46145-e013-4ec7-bd0c-4a881e9b5bd3",
   "metadata": {},
   "source": [
    "Станции невошедшие в выборку из-за отсутствия grd_links:\n",
    "\n",
    "yaku2, \n",
    "atka, \n",
    "sdpt2"
   ]
  },
  {
   "cell_type": "code",
   "execution_count": 83,
   "id": "179400e7-57c5-455c-8f23-ec304877bdf7",
   "metadata": {},
   "outputs": [],
   "source": [
    "df = df.dropna() # удаление пустых"
   ]
  },
  {
   "cell_type": "markdown",
   "id": "0d61b73d-fa05-4396-ab4a-da9ffe0a1a9b",
   "metadata": {},
   "source": [
    "# Вычисление времени добегания волн"
   ]
  },
  {
   "cell_type": "code",
   "execution_count": 85,
   "id": "b8e3c35a-2c91-4303-ab1f-0922e37374a0",
   "metadata": {},
   "outputs": [
    {
     "ename": "SyntaxError",
     "evalue": "invalid syntax (2637391525.py, line 5)",
     "output_type": "error",
     "traceback": [
      "\u001b[0;36m  Cell \u001b[0;32mIn[85], line 5\u001b[0;36m\u001b[0m\n\u001b[0;31m    for i in\u001b[0m\n\u001b[0m             ^\u001b[0m\n\u001b[0;31mSyntaxError\u001b[0m\u001b[0;31m:\u001b[0m invalid syntax\n"
     ]
    }
   ],
   "source": [
    "#вычислим на каком пикселе находится вулкан\n",
    "\n",
    "DATA = m.get_data('GRD/sdpt.grd')\n",
    "new = m.coord_data_like('GRD/sdpt.grd')\n",
    "\n",
    "point = (-20.5333, 184.6333)\n",
    "\n",
    "\n",
    "distances = [math.sqrt((x - point[0])**2 + (y - point[1])**2) for x, y in array]\n",
    "\n",
    "min_distance = min(distances)\n",
    "\n",
    "index = distances.index(min_distance)\n",
    "\n",
    "array[index]\n",
    "\n",
    "row = \n",
    "col = "
   ]
  },
  {
   "cell_type": "code",
   "execution_count": null,
   "id": "92659ad9-8577-45bf-b8b0-e4d7122c7865",
   "metadata": {},
   "outputs": [],
   "source": [
    "air_times = []\n",
    "for index, row in df.iterrows():\n",
    "    air_time = m.distance(row['lat'], row['lon1'], -20.5333, 184.6333) / 1116\n",
    "    air_times.append(air_time)\n",
    "\n",
    "    DATA = m.get_data(row['grd_links'])\n"
   ]
  },
  {
   "cell_type": "code",
   "execution_count": null,
   "id": "2b139d57-61dc-4bd0-b07a-19ebfce2bdb0",
   "metadata": {},
   "outputs": [],
   "source": []
  }
 ],
 "metadata": {
  "kernelspec": {
   "display_name": "Python 3 (ipykernel)",
   "language": "python",
   "name": "python3"
  },
  "language_info": {
   "codemirror_mode": {
    "name": "ipython",
    "version": 3
   },
   "file_extension": ".py",
   "mimetype": "text/x-python",
   "name": "python",
   "nbconvert_exporter": "python",
   "pygments_lexer": "ipython3",
   "version": "3.12.1"
  }
 },
 "nbformat": 4,
 "nbformat_minor": 5
}
